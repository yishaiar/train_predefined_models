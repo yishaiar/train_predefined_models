{
 "cells": [
  {
   "cell_type": "code",
   "execution_count": 1,
   "metadata": {},
   "outputs": [
    {
     "name": "stdout",
     "output_type": "stream",
     "text": [
      "cpu\n"
     ]
    }
   ],
   "source": [
    "from utils import *\n",
    "from evaluation_functions import *\n",
    "from torchvision_models import *\n",
    "\n",
    "import pickle \n",
    "import numpy as np\n",
    "import matplotlib.pyplot as plt \n",
    "import pandas as pd\n",
    "import os\n",
    "\n",
    "import torch\n",
    "import torch.nn as nn\n",
    "import torch.optim as optim\n",
    "import torchvision\n",
    "from torch.utils.data import DataLoader\n",
    "\n",
    "\n",
    "\n",
    "import pytorch_lightning as pl\n",
    "import mlflow\n",
    "\n",
    "device = torch.device(\"cuda:0\" if torch.cuda.is_available() else \"cpu\")\n",
    "print(device)\n",
    "torch.cuda.empty_cache()\n",
    "torch.set_float32_matmul_precision('medium')#gpu precision\n",
    "\n",
    "pd.set_option('display.max_columns', None)\n",
    "pd.set_option('display.max_rows', None)\n",
    "pd.set_option('display.max_colwidth', None)\n",
    "\n",
    "%load_ext autoreload\n",
    "%autoreload 2\n",
    "\n",
    "# ----------------\n",
    "isSmallDataset = True\n",
    "testing = True\n",
    "\n",
    "\n"
   ]
  },
  {
   "cell_type": "code",
   "execution_count": 2,
   "metadata": {},
   "outputs": [],
   "source": [
    "add = os.getcwd()+'/.data'\n",
    "def getData(add,download=False):\n",
    "    train_set = torchvision.datasets.CIFAR100(root = add, train = True, download = download, transform = torchvision.transforms.ToTensor())\n",
    "    val_set = torchvision.datasets.CIFAR100(root = add, train = False, download = download, transform = torchvision.transforms.ToTensor())\n",
    "    return train_set,val_set\n",
    "    \n",
    "try:\n",
    "    train_set,val_set = getData(add,download=False)\n",
    "except:\n",
    "    train_set,val_set = getData(add,download=True)\n",
    "\n",
    "# # subsample\n",
    "class_to_idx = train_set.class_to_idx\n",
    "# train_set = torch.utils.data.Subset(train_set,torch.arange(100)) if isSmallDataset else train_set\n",
    "# val_set = torch.utils.data.Subset(val_set,torch.arange(100)) if isSmallDataset else val_set\n",
    "\n",
    "\n",
    "# y=[]\n",
    "# for [xx1,yy1],[xx2,yy2] in zip(train_set,val_set):\n",
    "#     y+=[yy1,yy2]\n",
    "# y = np.unique(y)\n",
    "num_classes = len(class_to_idx)\n",
    "class_names ={}\n",
    "class_transform = {}\n",
    "for key,value in class_to_idx.items():\n",
    "    class_names[value] = key\n",
    "    class_transform[value] = value# if classe are not numbered from 0 to n-1 consecutively\n",
    "    # print(key,value)\n",
    "class_info = (class_names,class_transform)\n",
    "# class_info"
   ]
  },
  {
   "cell_type": "code",
   "execution_count": 13,
   "metadata": {},
   "outputs": [],
   "source": [
    "batch_size = 2**5\n",
    "num_workers= 4 if device.type != 'cuda:0' else 16\n",
    "DataLoaderParams = {'num_workers': num_workers, 'drop_last':True, 'persistent_workers':True,}\n",
    "\n",
    "sampler = None\n",
    "Datasets = {\n",
    "    'train': train_set,\n",
    "    'val': val_set,\n",
    "    'DataLoaderParams': DataLoaderParams,\n",
    "    'sampler': sampler,\n",
    "    'class_info':class_info,\n",
    "    'isSmallDataset': isSmallDataset\n",
    "}\n",
    "dataloaders = {\n",
    "                'train': DataLoader(Datasets['train'],**Datasets['DataLoaderParams'],sampler=Datasets['sampler'],batch_size=batch_size),\n",
    "                'val': DataLoader(Datasets['val'],**Datasets['DataLoaderParams'],shuffle = False,batch_size=batch_size)}\n"
   ]
  },
  {
   "cell_type": "code",
   "execution_count": 14,
   "metadata": {},
   "outputs": [],
   "source": [
    "y =[]\n",
    "for i ,[_,yy] in enumerate(dataloaders['train']):\n",
    "    y += yy.tolist()\n",
    "    # print(f'batch {type(yy.tolist())} loaded')\n",
    "    # break"
   ]
  },
  {
   "cell_type": "code",
   "execution_count": 18,
   "metadata": {},
   "outputs": [
    {
     "data": {
      "text/plain": [
       "100"
      ]
     },
     "execution_count": 18,
     "metadata": {},
     "output_type": "execute_result"
    }
   ],
   "source": [
    "len(np.unique(y))"
   ]
  },
  {
   "cell_type": "code",
   "execution_count": 5,
   "metadata": {},
   "outputs": [
    {
     "name": "stdout",
     "output_type": "stream",
     "text": [
      "batch 0 loaded\n"
     ]
    },
    {
     "data": {
      "text/plain": [
       "<matplotlib.colorbar.Colorbar at 0x25728da8b10>"
      ]
     },
     "execution_count": 5,
     "metadata": {},
     "output_type": "execute_result"
    },
    {
     "data": {
      "image/png": "[encoded data removed]",
      "text/plain": [
       "<Figure size 500x500 with 2 Axes>"
      ]
     },
     "metadata": {},
     "output_type": "display_data"
    }
   ],
   "source": [
    "for i ,[xx,yy] in enumerate(dataloaders['train']):\n",
    "    print(f'batch {i} loaded')\n",
    "    # if i>0:\n",
    "    break\n",
    "\n",
    "fig,ax = plt.subplots(figsize=(5,5))\n",
    "im = ax.imshow(xx[0,1,:,:])\n",
    "# im = ax.imshow(xx[0,:,:,:],cmap='gray')\n",
    "fig.colorbar(im,ax=ax,orientation='horizontal')"
   ]
  },
  {
   "cell_type": "markdown",
   "metadata": {},
   "source": [
    "mlflow - connect to experiment"
   ]
  },
  {
   "cell_type": "code",
   "execution_count": 6,
   "metadata": {},
   "outputs": [
    {
     "data": {
      "text/plain": [
       "<Experiment: artifact_location='file:///c:/Users/yili0901/Documents/GitHub/train_predefined_models/mlruns/616396183234793699', creation_time=1701618008066, experiment_id='616396183234793699', last_update_time=1701618008066, lifecycle_stage='active', name='torchvision_models', tags={}>"
      ]
     },
     "execution_count": 6,
     "metadata": {},
     "output_type": "execute_result"
    }
   ],
   "source": [
    "experiment_name = 'torchvision_models'\n",
    "mlflow.set_experiment(experiment_name)\n",
    "# mlflow.set_tracking_uri('file:/home/riccardo/mlruns')"
   ]
  },
  {
   "cell_type": "markdown",
   "metadata": {},
   "source": [
    "hyper parameters"
   ]
  },
  {
   "cell_type": "code",
   "execution_count": 7,
   "metadata": {},
   "outputs": [
    {
     "name": "stdout",
     "output_type": "stream",
     "text": [
      "{'model_name': 'resnet18', 'lr': 0.1, 'scheduler_step': None, 'optimizer': 'Adam', 'epochs': 1, 'batch_size': 4, 'weights': None, 'criterion': 'CrossEntropyLoss'}\n"
     ]
    }
   ],
   "source": [
    "from utils import *\n",
    "testing = True\n",
    "if testing:\n",
    "    hparams = {\n",
    "        'model_name': ['resnet18'],\n",
    "        'lr': [0.1],\n",
    "        'scheduler_step': [None],\n",
    "        'optimizer': ['Adam'],\n",
    "        'epochs': [1],\n",
    "        'batch_size': [2**2],\n",
    "        'weights': [None],\n",
    "        'criterion': ['CrossEntropyLoss'],\n",
    "    }\n",
    "else:\n",
    "\n",
    "    hparams = {\n",
    "        'model_name': ['resnet18','resnet50'],\n",
    "        'lr': [0.1,0.01],\n",
    "        'scheduler_step': [None,30],\n",
    "        'optimizer': ['Adam','SGD'],\n",
    "        'epochs': [1],\n",
    "        'batch_size': [2**7],\n",
    "        'weights': [None],\n",
    "        'criterion': ['CrossEntropyLoss'],\n",
    "    }\n",
    "hparams = calc_hparams(hparams, shuffle=False)"
   ]
  },
  {
   "cell_type": "code",
   "execution_count": 8,
   "metadata": {},
   "outputs": [
    {
     "name": "stderr",
     "output_type": "stream",
     "text": [
      "Seed set to 42\n"
     ]
    },
    {
     "name": "stdout",
     "output_type": "stream",
     "text": [
      "------------------------------------------------------------------------------------------------------------------------------------------------------\n",
      "Initiating resnet18_Adam_CrossEntropyLoss_0.01_4_scheduler_step_None_weights_None\n"
     ]
    },
    {
     "name": "stderr",
     "output_type": "stream",
     "text": [
      "Using bfloat16 Automatic Mixed Precision (AMP)\n",
      "GPU available: False, used: False\n",
      "TPU available: False, using: 0 TPU cores\n",
      "IPU available: False, using: 0 IPUs\n",
      "HPU available: False, using: 0 HPUs\n",
      "2023/12/03 18:59:17 WARNING mlflow.utils.git_utils: Failed to import Git (the Git executable is probably not on your PATH), so Git SHA is not available. Error: Failed to initialize: Bad git executable.\n",
      "The git executable must be specified in one of the following ways:\n",
      "    - be included in your $PATH\n",
      "    - be set via $GIT_PYTHON_GIT_EXECUTABLE\n",
      "    - explicitly set via git.refresh()\n",
      "\n",
      "All git commands will error until this is rectified.\n",
      "\n",
      "This initial warning can be silenced or aggravated in the future by setting the\n",
      "$GIT_PYTHON_REFRESH environment variable. Use one of the following values:\n",
      "    - quiet|q|silence|s|none|n|0: for no warning or exception\n",
      "    - warn|w|warning|1: for a printed warning\n",
      "    - error|e|raise|r|2: for a raised exception\n",
      "\n",
      "Example:\n",
      "    export GIT_PYTHON_REFRESH=quiet\n",
      "\n"
     ]
    },
    {
     "name": "stdout",
     "output_type": "stream",
     "text": [
      "Training start\n"
     ]
    },
    {
     "name": "stderr",
     "output_type": "stream",
     "text": [
      "\n",
      "  | Name       | Type               | Params\n",
      "--------------------------------------------------\n",
      "0 | back_bone  | ResNet             | 11.2 M\n",
      "1 | criterion_ | CrossEntropyLoss   | 0     \n",
      "2 | train_acc  | MulticlassAccuracy | 0     \n",
      "3 | val_acc    | MulticlassAccuracy | 0     \n",
      "4 | test_acc   | MulticlassAccuracy | 0     \n",
      "--------------------------------------------------\n",
      "11.2 M    Trainable params\n",
      "0         Non-trainable params\n",
      "11.2 M    Total params\n",
      "44.710    Total estimated model params size (MB)\n"
     ]
    },
    {
     "name": "stdout",
     "output_type": "stream",
     "text": [
      "Sanity Checking DataLoader 0:   0%|          | 0/2 [00:00<?, ?it/s]"
     ]
    },
    {
     "ename": "IndexError",
     "evalue": "Target 49 is out of bounds.",
     "output_type": "error",
     "traceback": [
      "\u001b[1;31m---------------------------------------------------------------------------\u001b[0m",
      "\u001b[1;31mIndexError\u001b[0m                                Traceback (most recent call last)",
      "\u001b[1;32mc:\\Users\\yili0901\\Documents\\GitHub\\train_predefined_models\\_run_model.ipynb Cell 10\u001b[0m line \u001b[0;36m3\n\u001b[0;32m     <a href='vscode-notebook-cell:/c%3A/Users/yili0901/Documents/GitHub/train_predefined_models/_run_model.ipynb#X11sZmlsZQ%3D%3D?line=35'>36</a>\u001b[0m     \u001b[39mreturn\u001b[39;00m model,trainer             \n\u001b[0;32m     <a href='vscode-notebook-cell:/c%3A/Users/yili0901/Documents/GitHub/train_predefined_models/_run_model.ipynb#X11sZmlsZQ%3D%3D?line=37'>38</a>\u001b[0m mlflow\u001b[39m.\u001b[39mend_run()\n\u001b[1;32m---> <a href='vscode-notebook-cell:/c%3A/Users/yili0901/Documents/GitHub/train_predefined_models/_run_model.ipynb#X11sZmlsZQ%3D%3D?line=38'>39</a>\u001b[0m train_model(Datasets, device, epochs\u001b[39m=\u001b[39;49m\u001b[39m1\u001b[39;49m,num_classes\u001b[39m=\u001b[39;49m\u001b[39m2\u001b[39;49m,lr\u001b[39m=\u001b[39;49m\u001b[39m0.01\u001b[39;49m,optimizer \u001b[39m=\u001b[39;49m \u001b[39m'\u001b[39;49m\u001b[39mAdam\u001b[39;49m\u001b[39m'\u001b[39;49m,model_name\u001b[39m=\u001b[39;49m\u001b[39m'\u001b[39;49m\u001b[39mresnet18\u001b[39;49m\u001b[39m'\u001b[39;49m, weights\u001b[39m=\u001b[39;49m\u001b[39mNone\u001b[39;49;00m, batch_size\u001b[39m=\u001b[39;49m\u001b[39m2\u001b[39;49m\u001b[39m*\u001b[39;49m\u001b[39m*\u001b[39;49m\u001b[39m2\u001b[39;49m, criterion\u001b[39m=\u001b[39;49m\u001b[39m'\u001b[39;49m\u001b[39mCrossEntropyLoss\u001b[39;49m\u001b[39m'\u001b[39;49m,scheduler_step\u001b[39m=\u001b[39;49m\u001b[39mNone\u001b[39;49;00m)\n",
      "\u001b[1;32mc:\\Users\\yili0901\\Documents\\GitHub\\train_predefined_models\\_run_model.ipynb Cell 10\u001b[0m line \u001b[0;36m2\n\u001b[0;32m     <a href='vscode-notebook-cell:/c%3A/Users/yili0901/Documents/GitHub/train_predefined_models/_run_model.ipynb#X11sZmlsZQ%3D%3D?line=19'>20</a>\u001b[0m mlflow\u001b[39m.\u001b[39mpytorch\u001b[39m.\u001b[39mautolog(registered_model_name\u001b[39m=\u001b[39mmodel_name,silent\u001b[39m=\u001b[39m\u001b[39mFalse\u001b[39;00m)\u001b[39m#log all parameters - works only with pytorch lightning\u001b[39;00m\n\u001b[0;32m     <a href='vscode-notebook-cell:/c%3A/Users/yili0901/Documents/GitHub/train_predefined_models/_run_model.ipynb#X11sZmlsZQ%3D%3D?line=20'>21</a>\u001b[0m mlflow\u001b[39m.\u001b[39mlog_params({\u001b[39m'\u001b[39m\u001b[39mmodel\u001b[39m\u001b[39m'\u001b[39m: model_name,\u001b[39m'\u001b[39m\u001b[39mbatch_size\u001b[39m\u001b[39m'\u001b[39m: batch_size,\u001b[39m'\u001b[39m\u001b[39mpretrain_weights\u001b[39m\u001b[39m'\u001b[39m: weights,\u001b[39m'\u001b[39m\u001b[39mcriterion\u001b[39m\u001b[39m'\u001b[39m: criterion,\u001b[39m'\u001b[39m\u001b[39moptimizer\u001b[39m\u001b[39m'\u001b[39m:optimizer, \n\u001b[0;32m     <a href='vscode-notebook-cell:/c%3A/Users/yili0901/Documents/GitHub/train_predefined_models/_run_model.ipynb#X11sZmlsZQ%3D%3D?line=21'>22</a>\u001b[0m                    \u001b[39m'\u001b[39m\u001b[39mepochs\u001b[39m\u001b[39m'\u001b[39m: epochs,\u001b[39m'\u001b[39m\u001b[39mscheduler_step\u001b[39m\u001b[39m'\u001b[39m: scheduler_step})\n\u001b[1;32m---> <a href='vscode-notebook-cell:/c%3A/Users/yili0901/Documents/GitHub/train_predefined_models/_run_model.ipynb#X11sZmlsZQ%3D%3D?line=22'>23</a>\u001b[0m trainer\u001b[39m.\u001b[39;49mfit(model, train_dataloaders \u001b[39m=\u001b[39;49m dataloaders[\u001b[39m'\u001b[39;49m\u001b[39mtrain\u001b[39;49m\u001b[39m'\u001b[39;49m], val_dataloaders \u001b[39m=\u001b[39;49mdataloaders[\u001b[39m'\u001b[39;49m\u001b[39mval\u001b[39;49m\u001b[39m'\u001b[39;49m])\n\u001b[0;32m     <a href='vscode-notebook-cell:/c%3A/Users/yili0901/Documents/GitHub/train_predefined_models/_run_model.ipynb#X11sZmlsZQ%3D%3D?line=23'>24</a>\u001b[0m \u001b[39mprint\u001b[39m (\u001b[39m'\u001b[39m\u001b[39mTraining complete\u001b[39m\u001b[39m'\u001b[39m)\n\u001b[0;32m     <a href='vscode-notebook-cell:/c%3A/Users/yili0901/Documents/GitHub/train_predefined_models/_run_model.ipynb#X11sZmlsZQ%3D%3D?line=24'>25</a>\u001b[0m \u001b[39m# ----------------------------------\u001b[39;00m\n",
      "File \u001b[1;32mc:\\Users\\yili0901\\Documents\\GitHub\\train_predefined_models\\.venv\\Lib\\site-packages\\mlflow\\utils\\autologging_utils\\safety.py:571\u001b[0m, in \u001b[0;36msafe_patch.<locals>.safe_patch_function\u001b[1;34m(*args, **kwargs)\u001b[0m\n\u001b[0;32m    569\u001b[0m     patch_function\u001b[39m.\u001b[39mcall(call_original, \u001b[39m*\u001b[39margs, \u001b[39m*\u001b[39m\u001b[39m*\u001b[39mkwargs)\n\u001b[0;32m    570\u001b[0m \u001b[39melse\u001b[39;00m:\n\u001b[1;32m--> 571\u001b[0m     patch_function(call_original, \u001b[39m*\u001b[39;49margs, \u001b[39m*\u001b[39;49m\u001b[39m*\u001b[39;49mkwargs)\n\u001b[0;32m    573\u001b[0m session\u001b[39m.\u001b[39mstate \u001b[39m=\u001b[39m \u001b[39m\"\u001b[39m\u001b[39msucceeded\u001b[39m\u001b[39m\"\u001b[39m\n\u001b[0;32m    575\u001b[0m try_log_autologging_event(\n\u001b[0;32m    576\u001b[0m     AutologgingEventLogger\u001b[39m.\u001b[39mget_logger()\u001b[39m.\u001b[39mlog_patch_function_success,\n\u001b[0;32m    577\u001b[0m     session,\n\u001b[1;32m   (...)\u001b[0m\n\u001b[0;32m    581\u001b[0m     kwargs,\n\u001b[0;32m    582\u001b[0m )\n",
      "File \u001b[1;32mc:\\Users\\yili0901\\Documents\\GitHub\\train_predefined_models\\.venv\\Lib\\site-packages\\mlflow\\utils\\autologging_utils\\safety.py:250\u001b[0m, in \u001b[0;36mwith_managed_run.<locals>.patch_with_managed_run\u001b[1;34m(original, *args, **kwargs)\u001b[0m\n\u001b[0;32m    247\u001b[0m     managed_run \u001b[39m=\u001b[39m create_managed_run()\n\u001b[0;32m    249\u001b[0m \u001b[39mtry\u001b[39;00m:\n\u001b[1;32m--> 250\u001b[0m     result \u001b[39m=\u001b[39m patch_function(original, \u001b[39m*\u001b[39;49margs, \u001b[39m*\u001b[39;49m\u001b[39m*\u001b[39;49mkwargs)\n\u001b[0;32m    251\u001b[0m \u001b[39mexcept\u001b[39;00m (\u001b[39mException\u001b[39;00m, \u001b[39mKeyboardInterrupt\u001b[39;00m):\n\u001b[0;32m    252\u001b[0m     \u001b[39m# In addition to standard Python exceptions, handle keyboard interrupts to ensure\u001b[39;00m\n\u001b[0;32m    253\u001b[0m     \u001b[39m# that runs are terminated if a user prematurely interrupts training execution\u001b[39;00m\n\u001b[0;32m    254\u001b[0m     \u001b[39m# (e.g. via sigint / ctrl-c)\u001b[39;00m\n\u001b[0;32m    255\u001b[0m     \u001b[39mif\u001b[39;00m managed_run:\n",
      "File \u001b[1;32mc:\\Users\\yili0901\\Documents\\GitHub\\train_predefined_models\\.venv\\Lib\\site-packages\\mlflow\\pytorch\\_lightning_autolog.py:386\u001b[0m, in \u001b[0;36mpatched_fit\u001b[1;34m(original, self, *args, **kwargs)\u001b[0m\n\u001b[0;32m    378\u001b[0m     \u001b[39mself\u001b[39m\u001b[39m.\u001b[39mcallbacks \u001b[39m+\u001b[39m\u001b[39m=\u001b[39m [\n\u001b[0;32m    379\u001b[0m         __MLflowPLCallback(\n\u001b[0;32m    380\u001b[0m             client, metrics_logger, run_id, log_models, log_every_n_epoch, log_every_n_step\n\u001b[0;32m    381\u001b[0m         )\n\u001b[0;32m    382\u001b[0m     ]\n\u001b[0;32m    384\u001b[0m client\u001b[39m.\u001b[39mflush(synchronous\u001b[39m=\u001b[39m\u001b[39mFalse\u001b[39;00m)\n\u001b[1;32m--> 386\u001b[0m result \u001b[39m=\u001b[39m original(\u001b[39mself\u001b[39;49m, \u001b[39m*\u001b[39;49margs, \u001b[39m*\u001b[39;49m\u001b[39m*\u001b[39;49mkwargs)\n\u001b[0;32m    388\u001b[0m \u001b[39mif\u001b[39;00m early_stop_callback \u001b[39mis\u001b[39;00m \u001b[39mnot\u001b[39;00m \u001b[39mNone\u001b[39;00m:\n\u001b[0;32m    389\u001b[0m     _log_early_stop_metrics(early_stop_callback, client, run_id)\n",
      "File \u001b[1;32mc:\\Users\\yili0901\\Documents\\GitHub\\train_predefined_models\\.venv\\Lib\\site-packages\\mlflow\\utils\\autologging_utils\\safety.py:552\u001b[0m, in \u001b[0;36msafe_patch.<locals>.safe_patch_function.<locals>.call_original\u001b[1;34m(*og_args, **og_kwargs)\u001b[0m\n\u001b[0;32m    549\u001b[0m         original_result \u001b[39m=\u001b[39m original(\u001b[39m*\u001b[39m_og_args, \u001b[39m*\u001b[39m\u001b[39m*\u001b[39m_og_kwargs)\n\u001b[0;32m    550\u001b[0m         \u001b[39mreturn\u001b[39;00m original_result\n\u001b[1;32m--> 552\u001b[0m \u001b[39mreturn\u001b[39;00m call_original_fn_with_event_logging(_original_fn, og_args, og_kwargs)\n",
      "File \u001b[1;32mc:\\Users\\yili0901\\Documents\\GitHub\\train_predefined_models\\.venv\\Lib\\site-packages\\mlflow\\utils\\autologging_utils\\safety.py:487\u001b[0m, in \u001b[0;36msafe_patch.<locals>.safe_patch_function.<locals>.call_original_fn_with_event_logging\u001b[1;34m(original_fn, og_args, og_kwargs)\u001b[0m\n\u001b[0;32m    478\u001b[0m \u001b[39mtry\u001b[39;00m:\n\u001b[0;32m    479\u001b[0m     try_log_autologging_event(\n\u001b[0;32m    480\u001b[0m         AutologgingEventLogger\u001b[39m.\u001b[39mget_logger()\u001b[39m.\u001b[39mlog_original_function_start,\n\u001b[0;32m    481\u001b[0m         session,\n\u001b[1;32m   (...)\u001b[0m\n\u001b[0;32m    485\u001b[0m         og_kwargs,\n\u001b[0;32m    486\u001b[0m     )\n\u001b[1;32m--> 487\u001b[0m     original_fn_result \u001b[39m=\u001b[39m original_fn(\u001b[39m*\u001b[39;49mog_args, \u001b[39m*\u001b[39;49m\u001b[39m*\u001b[39;49mog_kwargs)\n\u001b[0;32m    489\u001b[0m     try_log_autologging_event(\n\u001b[0;32m    490\u001b[0m         AutologgingEventLogger\u001b[39m.\u001b[39mget_logger()\u001b[39m.\u001b[39mlog_original_function_success,\n\u001b[0;32m    491\u001b[0m         session,\n\u001b[1;32m   (...)\u001b[0m\n\u001b[0;32m    495\u001b[0m         og_kwargs,\n\u001b[0;32m    496\u001b[0m     )\n\u001b[0;32m    497\u001b[0m     \u001b[39mreturn\u001b[39;00m original_fn_result\n",
      "File \u001b[1;32mc:\\Users\\yili0901\\Documents\\GitHub\\train_predefined_models\\.venv\\Lib\\site-packages\\mlflow\\utils\\autologging_utils\\safety.py:549\u001b[0m, in \u001b[0;36msafe_patch.<locals>.safe_patch_function.<locals>.call_original.<locals>._original_fn\u001b[1;34m(*_og_args, **_og_kwargs)\u001b[0m\n\u001b[0;32m    541\u001b[0m \u001b[39m# Show all non-MLflow warnings as normal (i.e. not as event logs)\u001b[39;00m\n\u001b[0;32m    542\u001b[0m \u001b[39m# during original function execution, even if silent mode is enabled\u001b[39;00m\n\u001b[0;32m    543\u001b[0m \u001b[39m# (`silent=True`), since these warnings originate from the ML framework\u001b[39;00m\n\u001b[0;32m    544\u001b[0m \u001b[39m# or one of its dependencies and are likely relevant to the caller\u001b[39;00m\n\u001b[0;32m    545\u001b[0m \u001b[39mwith\u001b[39;00m set_non_mlflow_warnings_behavior_for_current_thread(\n\u001b[0;32m    546\u001b[0m     disable_warnings\u001b[39m=\u001b[39m\u001b[39mFalse\u001b[39;00m,\n\u001b[0;32m    547\u001b[0m     reroute_warnings\u001b[39m=\u001b[39m\u001b[39mFalse\u001b[39;00m,\n\u001b[0;32m    548\u001b[0m ):\n\u001b[1;32m--> 549\u001b[0m     original_result \u001b[39m=\u001b[39m original(\u001b[39m*\u001b[39;49m_og_args, \u001b[39m*\u001b[39;49m\u001b[39m*\u001b[39;49m_og_kwargs)\n\u001b[0;32m    550\u001b[0m     \u001b[39mreturn\u001b[39;00m original_result\n",
      "File \u001b[1;32mc:\\Users\\yili0901\\Documents\\GitHub\\train_predefined_models\\.venv\\Lib\\site-packages\\pytorch_lightning\\trainer\\trainer.py:545\u001b[0m, in \u001b[0;36mTrainer.fit\u001b[1;34m(self, model, train_dataloaders, val_dataloaders, datamodule, ckpt_path)\u001b[0m\n\u001b[0;32m    543\u001b[0m \u001b[39mself\u001b[39m\u001b[39m.\u001b[39mstate\u001b[39m.\u001b[39mstatus \u001b[39m=\u001b[39m TrainerStatus\u001b[39m.\u001b[39mRUNNING\n\u001b[0;32m    544\u001b[0m \u001b[39mself\u001b[39m\u001b[39m.\u001b[39mtraining \u001b[39m=\u001b[39m \u001b[39mTrue\u001b[39;00m\n\u001b[1;32m--> 545\u001b[0m call\u001b[39m.\u001b[39;49m_call_and_handle_interrupt(\n\u001b[0;32m    546\u001b[0m     \u001b[39mself\u001b[39;49m, \u001b[39mself\u001b[39;49m\u001b[39m.\u001b[39;49m_fit_impl, model, train_dataloaders, val_dataloaders, datamodule, ckpt_path\n\u001b[0;32m    547\u001b[0m )\n",
      "File \u001b[1;32mc:\\Users\\yili0901\\Documents\\GitHub\\train_predefined_models\\.venv\\Lib\\site-packages\\pytorch_lightning\\trainer\\call.py:44\u001b[0m, in \u001b[0;36m_call_and_handle_interrupt\u001b[1;34m(trainer, trainer_fn, *args, **kwargs)\u001b[0m\n\u001b[0;32m     42\u001b[0m     \u001b[39mif\u001b[39;00m trainer\u001b[39m.\u001b[39mstrategy\u001b[39m.\u001b[39mlauncher \u001b[39mis\u001b[39;00m \u001b[39mnot\u001b[39;00m \u001b[39mNone\u001b[39;00m:\n\u001b[0;32m     43\u001b[0m         \u001b[39mreturn\u001b[39;00m trainer\u001b[39m.\u001b[39mstrategy\u001b[39m.\u001b[39mlauncher\u001b[39m.\u001b[39mlaunch(trainer_fn, \u001b[39m*\u001b[39margs, trainer\u001b[39m=\u001b[39mtrainer, \u001b[39m*\u001b[39m\u001b[39m*\u001b[39mkwargs)\n\u001b[1;32m---> 44\u001b[0m     \u001b[39mreturn\u001b[39;00m trainer_fn(\u001b[39m*\u001b[39;49margs, \u001b[39m*\u001b[39;49m\u001b[39m*\u001b[39;49mkwargs)\n\u001b[0;32m     46\u001b[0m \u001b[39mexcept\u001b[39;00m _TunerExitException:\n\u001b[0;32m     47\u001b[0m     _call_teardown_hook(trainer)\n",
      "File \u001b[1;32mc:\\Users\\yili0901\\Documents\\GitHub\\train_predefined_models\\.venv\\Lib\\site-packages\\pytorch_lightning\\trainer\\trainer.py:581\u001b[0m, in \u001b[0;36mTrainer._fit_impl\u001b[1;34m(self, model, train_dataloaders, val_dataloaders, datamodule, ckpt_path)\u001b[0m\n\u001b[0;32m    574\u001b[0m \u001b[39massert\u001b[39;00m \u001b[39mself\u001b[39m\u001b[39m.\u001b[39mstate\u001b[39m.\u001b[39mfn \u001b[39mis\u001b[39;00m \u001b[39mnot\u001b[39;00m \u001b[39mNone\u001b[39;00m\n\u001b[0;32m    575\u001b[0m ckpt_path \u001b[39m=\u001b[39m \u001b[39mself\u001b[39m\u001b[39m.\u001b[39m_checkpoint_connector\u001b[39m.\u001b[39m_select_ckpt_path(\n\u001b[0;32m    576\u001b[0m     \u001b[39mself\u001b[39m\u001b[39m.\u001b[39mstate\u001b[39m.\u001b[39mfn,\n\u001b[0;32m    577\u001b[0m     ckpt_path,\n\u001b[0;32m    578\u001b[0m     model_provided\u001b[39m=\u001b[39m\u001b[39mTrue\u001b[39;00m,\n\u001b[0;32m    579\u001b[0m     model_connected\u001b[39m=\u001b[39m\u001b[39mself\u001b[39m\u001b[39m.\u001b[39mlightning_module \u001b[39mis\u001b[39;00m \u001b[39mnot\u001b[39;00m \u001b[39mNone\u001b[39;00m,\n\u001b[0;32m    580\u001b[0m )\n\u001b[1;32m--> 581\u001b[0m \u001b[39mself\u001b[39;49m\u001b[39m.\u001b[39;49m_run(model, ckpt_path\u001b[39m=\u001b[39;49mckpt_path)\n\u001b[0;32m    583\u001b[0m \u001b[39massert\u001b[39;00m \u001b[39mself\u001b[39m\u001b[39m.\u001b[39mstate\u001b[39m.\u001b[39mstopped\n\u001b[0;32m    584\u001b[0m \u001b[39mself\u001b[39m\u001b[39m.\u001b[39mtraining \u001b[39m=\u001b[39m \u001b[39mFalse\u001b[39;00m\n",
      "File \u001b[1;32mc:\\Users\\yili0901\\Documents\\GitHub\\train_predefined_models\\.venv\\Lib\\site-packages\\pytorch_lightning\\trainer\\trainer.py:990\u001b[0m, in \u001b[0;36mTrainer._run\u001b[1;34m(self, model, ckpt_path)\u001b[0m\n\u001b[0;32m    985\u001b[0m \u001b[39mself\u001b[39m\u001b[39m.\u001b[39m_signal_connector\u001b[39m.\u001b[39mregister_signal_handlers()\n\u001b[0;32m    987\u001b[0m \u001b[39m# ----------------------------\u001b[39;00m\n\u001b[0;32m    988\u001b[0m \u001b[39m# RUN THE TRAINER\u001b[39;00m\n\u001b[0;32m    989\u001b[0m \u001b[39m# ----------------------------\u001b[39;00m\n\u001b[1;32m--> 990\u001b[0m results \u001b[39m=\u001b[39m \u001b[39mself\u001b[39;49m\u001b[39m.\u001b[39;49m_run_stage()\n\u001b[0;32m    992\u001b[0m \u001b[39m# ----------------------------\u001b[39;00m\n\u001b[0;32m    993\u001b[0m \u001b[39m# POST-Training CLEAN UP\u001b[39;00m\n\u001b[0;32m    994\u001b[0m \u001b[39m# ----------------------------\u001b[39;00m\n\u001b[0;32m    995\u001b[0m log\u001b[39m.\u001b[39mdebug(\u001b[39mf\u001b[39m\u001b[39m\"\u001b[39m\u001b[39m{\u001b[39;00m\u001b[39mself\u001b[39m\u001b[39m.\u001b[39m\u001b[39m__class__\u001b[39m\u001b[39m.\u001b[39m\u001b[39m__name__\u001b[39m\u001b[39m}\u001b[39;00m\u001b[39m: trainer tearing down\u001b[39m\u001b[39m\"\u001b[39m)\n",
      "File \u001b[1;32mc:\\Users\\yili0901\\Documents\\GitHub\\train_predefined_models\\.venv\\Lib\\site-packages\\pytorch_lightning\\trainer\\trainer.py:1034\u001b[0m, in \u001b[0;36mTrainer._run_stage\u001b[1;34m(self)\u001b[0m\n\u001b[0;32m   1032\u001b[0m \u001b[39mif\u001b[39;00m \u001b[39mself\u001b[39m\u001b[39m.\u001b[39mtraining:\n\u001b[0;32m   1033\u001b[0m     \u001b[39mwith\u001b[39;00m isolate_rng():\n\u001b[1;32m-> 1034\u001b[0m         \u001b[39mself\u001b[39;49m\u001b[39m.\u001b[39;49m_run_sanity_check()\n\u001b[0;32m   1035\u001b[0m     \u001b[39mwith\u001b[39;00m torch\u001b[39m.\u001b[39mautograd\u001b[39m.\u001b[39mset_detect_anomaly(\u001b[39mself\u001b[39m\u001b[39m.\u001b[39m_detect_anomaly):\n\u001b[0;32m   1036\u001b[0m         \u001b[39mself\u001b[39m\u001b[39m.\u001b[39mfit_loop\u001b[39m.\u001b[39mrun()\n",
      "File \u001b[1;32mc:\\Users\\yili0901\\Documents\\GitHub\\train_predefined_models\\.venv\\Lib\\site-packages\\pytorch_lightning\\trainer\\trainer.py:1063\u001b[0m, in \u001b[0;36mTrainer._run_sanity_check\u001b[1;34m(self)\u001b[0m\n\u001b[0;32m   1060\u001b[0m call\u001b[39m.\u001b[39m_call_callback_hooks(\u001b[39mself\u001b[39m, \u001b[39m\"\u001b[39m\u001b[39mon_sanity_check_start\u001b[39m\u001b[39m\"\u001b[39m)\n\u001b[0;32m   1062\u001b[0m \u001b[39m# run eval step\u001b[39;00m\n\u001b[1;32m-> 1063\u001b[0m val_loop\u001b[39m.\u001b[39;49mrun()\n\u001b[0;32m   1065\u001b[0m call\u001b[39m.\u001b[39m_call_callback_hooks(\u001b[39mself\u001b[39m, \u001b[39m\"\u001b[39m\u001b[39mon_sanity_check_end\u001b[39m\u001b[39m\"\u001b[39m)\n\u001b[0;32m   1067\u001b[0m \u001b[39m# reset logger connector\u001b[39;00m\n",
      "File \u001b[1;32mc:\\Users\\yili0901\\Documents\\GitHub\\train_predefined_models\\.venv\\Lib\\site-packages\\pytorch_lightning\\loops\\utilities.py:181\u001b[0m, in \u001b[0;36m_no_grad_context.<locals>._decorator\u001b[1;34m(self, *args, **kwargs)\u001b[0m\n\u001b[0;32m    179\u001b[0m     context_manager \u001b[39m=\u001b[39m torch\u001b[39m.\u001b[39mno_grad\n\u001b[0;32m    180\u001b[0m \u001b[39mwith\u001b[39;00m context_manager():\n\u001b[1;32m--> 181\u001b[0m     \u001b[39mreturn\u001b[39;00m loop_run(\u001b[39mself\u001b[39;49m, \u001b[39m*\u001b[39;49margs, \u001b[39m*\u001b[39;49m\u001b[39m*\u001b[39;49mkwargs)\n",
      "File \u001b[1;32mc:\\Users\\yili0901\\Documents\\GitHub\\train_predefined_models\\.venv\\Lib\\site-packages\\pytorch_lightning\\loops\\evaluation_loop.py:134\u001b[0m, in \u001b[0;36m_EvaluationLoop.run\u001b[1;34m(self)\u001b[0m\n\u001b[0;32m    132\u001b[0m     \u001b[39mself\u001b[39m\u001b[39m.\u001b[39mbatch_progress\u001b[39m.\u001b[39mis_last_batch \u001b[39m=\u001b[39m data_fetcher\u001b[39m.\u001b[39mdone\n\u001b[0;32m    133\u001b[0m     \u001b[39m# run step hooks\u001b[39;00m\n\u001b[1;32m--> 134\u001b[0m     \u001b[39mself\u001b[39;49m\u001b[39m.\u001b[39;49m_evaluation_step(batch, batch_idx, dataloader_idx, dataloader_iter)\n\u001b[0;32m    135\u001b[0m \u001b[39mexcept\u001b[39;00m \u001b[39mStopIteration\u001b[39;00m:\n\u001b[0;32m    136\u001b[0m     \u001b[39m# this needs to wrap the `*_step` call too (not just `next`) for `dataloader_iter` support\u001b[39;00m\n\u001b[0;32m    137\u001b[0m     \u001b[39mbreak\u001b[39;00m\n",
      "File \u001b[1;32mc:\\Users\\yili0901\\Documents\\GitHub\\train_predefined_models\\.venv\\Lib\\site-packages\\pytorch_lightning\\loops\\evaluation_loop.py:391\u001b[0m, in \u001b[0;36m_EvaluationLoop._evaluation_step\u001b[1;34m(self, batch, batch_idx, dataloader_idx, dataloader_iter)\u001b[0m\n\u001b[0;32m    385\u001b[0m hook_name \u001b[39m=\u001b[39m \u001b[39m\"\u001b[39m\u001b[39mtest_step\u001b[39m\u001b[39m\"\u001b[39m \u001b[39mif\u001b[39;00m trainer\u001b[39m.\u001b[39mtesting \u001b[39melse\u001b[39;00m \u001b[39m\"\u001b[39m\u001b[39mvalidation_step\u001b[39m\u001b[39m\"\u001b[39m\n\u001b[0;32m    386\u001b[0m step_args \u001b[39m=\u001b[39m (\n\u001b[0;32m    387\u001b[0m     \u001b[39mself\u001b[39m\u001b[39m.\u001b[39m_build_step_args_from_hook_kwargs(hook_kwargs, hook_name)\n\u001b[0;32m    388\u001b[0m     \u001b[39mif\u001b[39;00m \u001b[39mnot\u001b[39;00m using_dataloader_iter\n\u001b[0;32m    389\u001b[0m     \u001b[39melse\u001b[39;00m (dataloader_iter,)\n\u001b[0;32m    390\u001b[0m )\n\u001b[1;32m--> 391\u001b[0m output \u001b[39m=\u001b[39m call\u001b[39m.\u001b[39;49m_call_strategy_hook(trainer, hook_name, \u001b[39m*\u001b[39;49mstep_args)\n\u001b[0;32m    393\u001b[0m \u001b[39mself\u001b[39m\u001b[39m.\u001b[39mbatch_progress\u001b[39m.\u001b[39mincrement_processed()\n\u001b[0;32m    395\u001b[0m \u001b[39mif\u001b[39;00m using_dataloader_iter:\n\u001b[0;32m    396\u001b[0m     \u001b[39m# update the hook kwargs now that the step method might have consumed the iterator\u001b[39;00m\n",
      "File \u001b[1;32mc:\\Users\\yili0901\\Documents\\GitHub\\train_predefined_models\\.venv\\Lib\\site-packages\\pytorch_lightning\\trainer\\call.py:309\u001b[0m, in \u001b[0;36m_call_strategy_hook\u001b[1;34m(trainer, hook_name, *args, **kwargs)\u001b[0m\n\u001b[0;32m    306\u001b[0m     \u001b[39mreturn\u001b[39;00m \u001b[39mNone\u001b[39;00m\n\u001b[0;32m    308\u001b[0m \u001b[39mwith\u001b[39;00m trainer\u001b[39m.\u001b[39mprofiler\u001b[39m.\u001b[39mprofile(\u001b[39mf\u001b[39m\u001b[39m\"\u001b[39m\u001b[39m[Strategy]\u001b[39m\u001b[39m{\u001b[39;00mtrainer\u001b[39m.\u001b[39mstrategy\u001b[39m.\u001b[39m\u001b[39m__class__\u001b[39m\u001b[39m.\u001b[39m\u001b[39m__name__\u001b[39m\u001b[39m}\u001b[39;00m\u001b[39m.\u001b[39m\u001b[39m{\u001b[39;00mhook_name\u001b[39m}\u001b[39;00m\u001b[39m\"\u001b[39m):\n\u001b[1;32m--> 309\u001b[0m     output \u001b[39m=\u001b[39m fn(\u001b[39m*\u001b[39;49margs, \u001b[39m*\u001b[39;49m\u001b[39m*\u001b[39;49mkwargs)\n\u001b[0;32m    311\u001b[0m \u001b[39m# restore current_fx when nested context\u001b[39;00m\n\u001b[0;32m    312\u001b[0m pl_module\u001b[39m.\u001b[39m_current_fx_name \u001b[39m=\u001b[39m prev_fx_name\n",
      "File \u001b[1;32mc:\\Users\\yili0901\\Documents\\GitHub\\train_predefined_models\\.venv\\Lib\\site-packages\\pytorch_lightning\\strategies\\strategy.py:403\u001b[0m, in \u001b[0;36mStrategy.validation_step\u001b[1;34m(self, *args, **kwargs)\u001b[0m\n\u001b[0;32m    401\u001b[0m \u001b[39mif\u001b[39;00m \u001b[39mself\u001b[39m\u001b[39m.\u001b[39mmodel \u001b[39m!=\u001b[39m \u001b[39mself\u001b[39m\u001b[39m.\u001b[39mlightning_module:\n\u001b[0;32m    402\u001b[0m     \u001b[39mreturn\u001b[39;00m \u001b[39mself\u001b[39m\u001b[39m.\u001b[39m_forward_redirection(\u001b[39mself\u001b[39m\u001b[39m.\u001b[39mmodel, \u001b[39mself\u001b[39m\u001b[39m.\u001b[39mlightning_module, \u001b[39m\"\u001b[39m\u001b[39mvalidation_step\u001b[39m\u001b[39m\"\u001b[39m, \u001b[39m*\u001b[39margs, \u001b[39m*\u001b[39m\u001b[39m*\u001b[39mkwargs)\n\u001b[1;32m--> 403\u001b[0m \u001b[39mreturn\u001b[39;00m \u001b[39mself\u001b[39;49m\u001b[39m.\u001b[39;49mlightning_module\u001b[39m.\u001b[39;49mvalidation_step(\u001b[39m*\u001b[39;49margs, \u001b[39m*\u001b[39;49m\u001b[39m*\u001b[39;49mkwargs)\n",
      "File \u001b[1;32mc:\\Users\\yili0901\\Documents\\GitHub\\train_predefined_models\\torchvision_models.py:68\u001b[0m, in \u001b[0;36mget_model_lightning.validation_step\u001b[1;34m(self, batch, batch_idx)\u001b[0m\n\u001b[0;32m     66\u001b[0m x, y \u001b[39m=\u001b[39m batch\n\u001b[0;32m     67\u001b[0m logits \u001b[39m=\u001b[39m \u001b[39mself\u001b[39m(x)\u001b[39m#outputs of last fully connected layer before softmax\u001b[39;00m\n\u001b[1;32m---> 68\u001b[0m loss \u001b[39m=\u001b[39m \u001b[39mself\u001b[39;49m\u001b[39m.\u001b[39;49mcriterion(logits, y)\u001b[39m#CrossEntropyLoss\u001b[39;00m\n\u001b[0;32m     69\u001b[0m preds \u001b[39m=\u001b[39m torch\u001b[39m.\u001b[39margmax(logits, dim\u001b[39m=\u001b[39m\u001b[39m1\u001b[39m)\u001b[39m#get the index of the max log-probability; equivalent to _,preds = torch.max(logits, dim=1)\u001b[39;00m\n\u001b[0;32m     71\u001b[0m \u001b[39mself\u001b[39m\u001b[39m.\u001b[39mlog(\u001b[39m'\u001b[39m\u001b[39mval_loss\u001b[39m\u001b[39m'\u001b[39m, loss, prog_bar\u001b[39m=\u001b[39m\u001b[39mTrue\u001b[39;00m)\n",
      "File \u001b[1;32mc:\\Users\\yili0901\\Documents\\GitHub\\train_predefined_models\\torchvision_models.py:38\u001b[0m, in \u001b[0;36mget_model_lightning.criterion\u001b[1;34m(self, logits, y)\u001b[0m\n\u001b[0;32m     37\u001b[0m \u001b[39mdef\u001b[39;00m \u001b[39mcriterion\u001b[39m(\u001b[39mself\u001b[39m, logits, y): \n\u001b[1;32m---> 38\u001b[0m       \u001b[39mreturn\u001b[39;00m \u001b[39mself\u001b[39;49m\u001b[39m.\u001b[39;49mcriterion_(logits, y\u001b[39m.\u001b[39;49mlong())\n",
      "File \u001b[1;32mc:\\Users\\yili0901\\Documents\\GitHub\\train_predefined_models\\.venv\\Lib\\site-packages\\torch\\nn\\modules\\module.py:1501\u001b[0m, in \u001b[0;36mModule._call_impl\u001b[1;34m(self, *args, **kwargs)\u001b[0m\n\u001b[0;32m   1496\u001b[0m \u001b[39m# If we don't have any hooks, we want to skip the rest of the logic in\u001b[39;00m\n\u001b[0;32m   1497\u001b[0m \u001b[39m# this function, and just call forward.\u001b[39;00m\n\u001b[0;32m   1498\u001b[0m \u001b[39mif\u001b[39;00m \u001b[39mnot\u001b[39;00m (\u001b[39mself\u001b[39m\u001b[39m.\u001b[39m_backward_hooks \u001b[39mor\u001b[39;00m \u001b[39mself\u001b[39m\u001b[39m.\u001b[39m_backward_pre_hooks \u001b[39mor\u001b[39;00m \u001b[39mself\u001b[39m\u001b[39m.\u001b[39m_forward_hooks \u001b[39mor\u001b[39;00m \u001b[39mself\u001b[39m\u001b[39m.\u001b[39m_forward_pre_hooks\n\u001b[0;32m   1499\u001b[0m         \u001b[39mor\u001b[39;00m _global_backward_pre_hooks \u001b[39mor\u001b[39;00m _global_backward_hooks\n\u001b[0;32m   1500\u001b[0m         \u001b[39mor\u001b[39;00m _global_forward_hooks \u001b[39mor\u001b[39;00m _global_forward_pre_hooks):\n\u001b[1;32m-> 1501\u001b[0m     \u001b[39mreturn\u001b[39;00m forward_call(\u001b[39m*\u001b[39;49margs, \u001b[39m*\u001b[39;49m\u001b[39m*\u001b[39;49mkwargs)\n\u001b[0;32m   1502\u001b[0m \u001b[39m# Do not call functions when jit is used\u001b[39;00m\n\u001b[0;32m   1503\u001b[0m full_backward_hooks, non_full_backward_hooks \u001b[39m=\u001b[39m [], []\n",
      "File \u001b[1;32mc:\\Users\\yili0901\\Documents\\GitHub\\train_predefined_models\\.venv\\Lib\\site-packages\\torch\\nn\\modules\\loss.py:1174\u001b[0m, in \u001b[0;36mCrossEntropyLoss.forward\u001b[1;34m(self, input, target)\u001b[0m\n\u001b[0;32m   1173\u001b[0m \u001b[39mdef\u001b[39;00m \u001b[39mforward\u001b[39m(\u001b[39mself\u001b[39m, \u001b[39minput\u001b[39m: Tensor, target: Tensor) \u001b[39m-\u001b[39m\u001b[39m>\u001b[39m Tensor:\n\u001b[1;32m-> 1174\u001b[0m     \u001b[39mreturn\u001b[39;00m F\u001b[39m.\u001b[39;49mcross_entropy(\u001b[39minput\u001b[39;49m, target, weight\u001b[39m=\u001b[39;49m\u001b[39mself\u001b[39;49m\u001b[39m.\u001b[39;49mweight,\n\u001b[0;32m   1175\u001b[0m                            ignore_index\u001b[39m=\u001b[39;49m\u001b[39mself\u001b[39;49m\u001b[39m.\u001b[39;49mignore_index, reduction\u001b[39m=\u001b[39;49m\u001b[39mself\u001b[39;49m\u001b[39m.\u001b[39;49mreduction,\n\u001b[0;32m   1176\u001b[0m                            label_smoothing\u001b[39m=\u001b[39;49m\u001b[39mself\u001b[39;49m\u001b[39m.\u001b[39;49mlabel_smoothing)\n",
      "File \u001b[1;32mc:\\Users\\yili0901\\Documents\\GitHub\\train_predefined_models\\.venv\\Lib\\site-packages\\torch\\nn\\functional.py:3029\u001b[0m, in \u001b[0;36mcross_entropy\u001b[1;34m(input, target, weight, size_average, ignore_index, reduce, reduction, label_smoothing)\u001b[0m\n\u001b[0;32m   3027\u001b[0m \u001b[39mif\u001b[39;00m size_average \u001b[39mis\u001b[39;00m \u001b[39mnot\u001b[39;00m \u001b[39mNone\u001b[39;00m \u001b[39mor\u001b[39;00m reduce \u001b[39mis\u001b[39;00m \u001b[39mnot\u001b[39;00m \u001b[39mNone\u001b[39;00m:\n\u001b[0;32m   3028\u001b[0m     reduction \u001b[39m=\u001b[39m _Reduction\u001b[39m.\u001b[39mlegacy_get_string(size_average, reduce)\n\u001b[1;32m-> 3029\u001b[0m \u001b[39mreturn\u001b[39;00m torch\u001b[39m.\u001b[39;49m_C\u001b[39m.\u001b[39;49m_nn\u001b[39m.\u001b[39;49mcross_entropy_loss(\u001b[39minput\u001b[39;49m, target, weight, _Reduction\u001b[39m.\u001b[39;49mget_enum(reduction), ignore_index, label_smoothing)\n",
      "\u001b[1;31mIndexError\u001b[0m: Target 49 is out of bounds."
     ]
    }
   ],
   "source": [
    "def train_model(Datasets, device, epochs,num_classes=2,lr=0.01,optimizer = 'Adam',model_name='resnet18', weights=None, batch_size=2**2, criterion='CrossEntropyLoss',scheduler_step=None):\n",
    "    run_name = f'{model_name}_{optimizer}_{criterion}_{lr}_{batch_size}_scheduler_step_{scheduler_step}_weights_{weights}'\n",
    "    print ('-'*150)\n",
    "\n",
    "    print(f'Initiating {run_name}')\n",
    "    model = get_model_lightning(model_name,num_classes, optimizer, lr, weights, criterion, scheduler_step).to(device)\n",
    "    # create dataloaders from predefined datasets\n",
    "    dataloaders = {\n",
    "                'train': DataLoader(Datasets['train'],**Datasets['DataLoaderParams'],sampler=Datasets['sampler'],batch_size=batch_size),\n",
    "                'val': DataLoader(Datasets['val'],**Datasets['DataLoaderParams'],shuffle = False,batch_size=batch_size)\n",
    "                }\n",
    "    pl.seed_everything(42,workers=True)\n",
    "    pl_accelerator = device.type if device.type != 'cuda:0' else 'gpu'#'auto' can be used for automatic choice\n",
    "    trainer = pl.Trainer(max_epochs=epochs, log_every_n_steps=1,enable_checkpointing=False,precision='bf16-mixed',\n",
    "                         deterministic=True,accelerator=pl_accelerator, devices='auto',#devices='0,1' for multiple gpus\n",
    "                         limit_train_batches=0.05,limit_val_batches=0.05,limit_test_batches=0.05,)#percentage of dataset batches used in epoch\n",
    "\n",
    "    print ('Training start')  \n",
    "    mlflow.start_run(run_name=run_name)\n",
    "    mlflow.pytorch.autolog(registered_model_name=model_name,silent=False)#log all parameters - works only with pytorch lightning\n",
    "    mlflow.log_params({'model': model_name,'batch_size': batch_size,'pretrain_weights': weights,'criterion': criterion,'optimizer':optimizer, \n",
    "                       'epochs': epochs,'scheduler_step': scheduler_step})\n",
    "    trainer.fit(model, train_dataloaders = dataloaders['train'], val_dataloaders =dataloaders['val'])\n",
    "    print ('Training complete')\n",
    "    # ----------------------------------\n",
    "    print('Predicting (test) start')\n",
    "    y_pred_test,y_true_test = seperate_predictions(trainer.predict(model,dataloaders['val']))#y_pred_test,y_true_test are recieved by batch of both needs to be restructured\n",
    "    test_metrics = evaluate_metrics(y_true_test,y_pred_test)\n",
    "    print(test_metrics)\n",
    "\n",
    "    # calculate confusion matrix,classification report \n",
    "    eval_metric_figs(y_pred_test,y_true_test,num_classes,class_names=class_info[0],class_transform=class_info[1], save=True,folder_name=run_name)   \n",
    "    \n",
    "    mlflow.log_metrics(test_metrics)\n",
    "    mlflow.end_run() \n",
    "    return model,trainer             \n",
    "\n",
    "mlflow.end_run()\n",
    "train_model(Datasets, device, epochs=1,num_classes=2,lr=0.01,optimizer = 'Adam',model_name='resnet18', weights=None, batch_size=2**2, criterion='CrossEntropyLoss',scheduler_step=None)\n",
    "   "
   ]
  },
  {
   "cell_type": "code",
   "execution_count": null,
   "metadata": {},
   "outputs": [
    {
     "name": "stdout",
     "output_type": "stream",
     "text": [
      "------------------------------------------------------------------------------------------------------------------------------------------------------\n",
      "------------------------------------------------------------------------------------------------------------------------------------------------------\n",
      "{'model_name': 'resnet18', 'lr': 0.1, 'scheduler_step': None, 'optimizer': 'Adam', 'epochs': 1, 'batch_size': 4, 'weights': None, 'criterion': 'CrossEntropyLoss'}\n"
     ]
    },
    {
     "ename": "TypeError",
     "evalue": "train_model() got multiple values for argument 'epochs'",
     "output_type": "error",
     "traceback": [
      "\u001b[1;31m---------------------------------------------------------------------------\u001b[0m",
      "\u001b[1;31mTypeError\u001b[0m                                 Traceback (most recent call last)",
      "\u001b[1;32mc:\\Users\\yili0901\\Documents\\GitHub\\train_predefined_models\\_run_model.ipynb Cell 10\u001b[0m line \u001b[0;36m6\n\u001b[0;32m      <a href='vscode-notebook-cell:/c%3A/Users/yili0901/Documents/GitHub/train_predefined_models/_run_model.ipynb#X12sZmlsZQ%3D%3D?line=2'>3</a>\u001b[0m \u001b[39mprint\u001b[39m(\u001b[39m'\u001b[39m\u001b[39m-\u001b[39m\u001b[39m'\u001b[39m\u001b[39m*\u001b[39m\u001b[39m150\u001b[39m)\n\u001b[0;32m      <a href='vscode-notebook-cell:/c%3A/Users/yili0901/Documents/GitHub/train_predefined_models/_run_model.ipynb#X12sZmlsZQ%3D%3D?line=3'>4</a>\u001b[0m \u001b[39mprint\u001b[39m(p)\n\u001b[1;32m----> <a href='vscode-notebook-cell:/c%3A/Users/yili0901/Documents/GitHub/train_predefined_models/_run_model.ipynb#X12sZmlsZQ%3D%3D?line=5'>6</a>\u001b[0m model,trainer \u001b[39m=\u001b[39m train_model(Datasets\u001b[39m.\u001b[39;49mcopy(), device, num_classes, \u001b[39m*\u001b[39;49m\u001b[39m*\u001b[39;49mp)\n",
      "\u001b[1;31mTypeError\u001b[0m: train_model() got multiple values for argument 'epochs'"
     ]
    }
   ],
   "source": [
    "for p in hparams:\n",
    "    print('-'*150)\n",
    "    print('-'*150)\n",
    "    print(p)\n",
    "    \n",
    "    model,trainer = train_model(Datasets.copy(), device, num_classes, **p)"
   ]
  }
 ],
 "metadata": {
  "kernelspec": {
   "display_name": ".venv",
   "language": "python",
   "name": "python3"
  },
  "language_info": {
   "codemirror_mode": {
    "name": "ipython",
    "version": 3
   },
   "file_extension": ".py",
   "mimetype": "text/x-python",
   "name": "python",
   "nbconvert_exporter": "python",
   "pygments_lexer": "ipython3",
   "version": "3.11.6"
  }
 },
 "nbformat": 4,
 "nbformat_minor": 2
}
